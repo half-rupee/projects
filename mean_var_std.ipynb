{
 "cells": [
  {
   "cell_type": "code",
   "execution_count": 164,
   "metadata": {},
   "outputs": [],
   "source": [
    "import numpy as np\n"
   ]
  },
  {
   "cell_type": "markdown",
   "metadata": {},
   "source": [
    "### creating a user defined matrix\n"
   ]
  },
  {
   "cell_type": "code",
   "execution_count": 165,
   "metadata": {},
   "outputs": [],
   "source": [
    "# creating a 3x3 matrix of zeros\n",
    "\n",
    "mat = np.zeros((3,3))\n"
   ]
  },
  {
   "cell_type": "code",
   "execution_count": 166,
   "metadata": {},
   "outputs": [
    {
     "name": "stdout",
     "output_type": "stream",
     "text": [
      "Enter a number1\n",
      "Enter a number2\n",
      "Enter a number3\n",
      "Enter a number4\n",
      "Enter a number5\n",
      "Enter a number6\n",
      "Enter a number7\n",
      "Enter a number8\n",
      "Enter a number9\n"
     ]
    }
   ],
   "source": [
    "# taking user input to fill matrix\n",
    "\n",
    "for i in range(0,3):\n",
    "    for j in range(0,3):\n",
    "        mat[i,j]=int(input(\"Enter a number\"))\n",
    "\n",
    "\n"
   ]
  },
  {
   "cell_type": "code",
   "execution_count": 167,
   "metadata": {},
   "outputs": [
    {
     "data": {
      "text/plain": [
       "array([[1., 2., 3.],\n",
       "       [4., 5., 6.],\n",
       "       [7., 8., 9.]])"
      ]
     },
     "execution_count": 167,
     "metadata": {},
     "output_type": "execute_result"
    }
   ],
   "source": [
    "#display the user defined matrix\n",
    "mat"
   ]
  },
  {
   "cell_type": "code",
   "execution_count": 170,
   "metadata": {},
   "outputs": [],
   "source": [
    "#Creating a function called calculate\n",
    "\n",
    "def calculate(mat):\n",
    "    flattned_mat = flat(mat)\n",
    "    hor=hor_mat(mat)\n",
    "    ver=ver_mat(mat)\n",
    "    \n",
    "    # mean\n",
    "    mean_hor=[np.mean(hor[0]),np.mean(hor[1]),np.mean(hor[2])]\n",
    "    mean_ver=[np.mean(ver[0]),np.mean(ver[1]),np.mean(ver[2])]\n",
    "    mean_flat=np.mean(flattned_mat)\n",
    "    \n",
    "    # varience\n",
    "    var_hor=[np.var(hor[0]),np.var(hor[1]),np.var(hor[2])]\n",
    "    var_ver=[np.var(ver[0]),np.var(ver[1]),np.var(ver[2])]\n",
    "    var_flat=np.var(flattned_mat)\n",
    "    \n",
    "    # Standard deviation\n",
    "    std_hor=[np.std(hor[0]),np.std(hor[1]),np.std(hor[2])]\n",
    "    std_ver=[np.std(ver[0]),np.std(ver[1]),np.std(ver[2])]\n",
    "    std_flat=np.std(flattned_mat)\n",
    "\n",
    "    # Minimum\n",
    "    min_hor=[np.min(hor[0]),np.min(hor[1]),np.min(hor[2])]\n",
    "    min_ver=[np.min(ver[0]),np.min(ver[1]),np.min(ver[2])]\n",
    "    min_flat=np.min(flattned_mat)\n",
    "\n",
    "    # Maximum\n",
    "    max_hor=[np.max(hor[0]),np.max(hor[1]),np.max(hor[2])]\n",
    "    max_ver=[np.max(ver[0]),np.max(ver[1]),np.max(ver[2])]\n",
    "    max_flat=np.max(flattned_mat)\n",
    "    \n",
    "    dict = {\"Mean\": [mean_hor,mean_ver,mean_flat],\n",
    "            \"Varience\": [var_hor,var_ver,var_flat],\n",
    "            \"Standard devience\": [std_hor,std_ver,std_ver],\n",
    "            \"Minimum\": [min_hor,min_ver,min_flat],\n",
    "            \"Maximum\": [max_hor,max_ver,max_flat]\n",
    "    }\n",
    "    \n",
    "    return dict\n",
    "\n",
    "    \n",
    "    \n",
    "    "
   ]
  },
  {
   "cell_type": "code",
   "execution_count": 171,
   "metadata": {},
   "outputs": [
    {
     "data": {
      "text/plain": [
       "{'Mean': [[2.0, 5.0, 8.0], [4.0, 5.0, 6.0], 5.0],\n",
       " 'Varience': [[0.6666666666666666, 0.6666666666666666, 0.6666666666666666],\n",
       "  [6.0, 6.0, 6.0],\n",
       "  6.666666666666667],\n",
       " 'Standard devience': [[0.816496580927726,\n",
       "   0.816496580927726,\n",
       "   0.816496580927726],\n",
       "  [2.449489742783178, 2.449489742783178, 2.449489742783178],\n",
       "  [2.449489742783178, 2.449489742783178, 2.449489742783178]],\n",
       " 'Minimum': [[1.0, 4.0, 7.0], [1.0, 2.0, 3.0], 1.0],\n",
       " 'Maximum': [[3.0, 6.0, 9.0], [7.0, 8.0, 9.0], 9.0]}"
      ]
     },
     "execution_count": 171,
     "metadata": {},
     "output_type": "execute_result"
    }
   ],
   "source": [
    "calculate(mat)"
   ]
  },
  {
   "cell_type": "code",
   "execution_count": 148,
   "metadata": {},
   "outputs": [],
   "source": [
    "#function to flatten the matrix\n",
    "def flat(mat):\n",
    "    temp =[]\n",
    "    for x in range(0,3):\n",
    "        for y in range(0,3):\n",
    "            temp.append(mat[x,y])\n",
    "    return temp\n",
    "    \n",
    "\n",
    "# Function to cut matrix horizontally\n",
    "def hor_mat(mat):\n",
    "    temp=[]\n",
    "    for y in range(0,3):\n",
    "        temp.append(mat[0,y])\n",
    "    hor_1 = temp\n",
    "    temp=[]\n",
    "    for y in range(0,3):\n",
    "        temp.append(mat[1,y])\n",
    "    hor_2 = temp\n",
    "    temp=[]\n",
    "    for y in range(0,3):\n",
    "        temp.append(mat[2,y])\n",
    "    hor_3 = temp\n",
    "    return hor_1,hor_2,hor_3\n",
    "\n",
    "# Function to cut matrix vertically\n",
    "def ver_mat(mat):\n",
    "    temp=[]\n",
    "    for y in range(0,3):\n",
    "        temp.append(mat[y,0])\n",
    "    ver_1 = temp\n",
    "    temp=[]\n",
    "    for y in range(0,3):\n",
    "        temp.append(mat[y,1])\n",
    "    ver_2 = temp\n",
    "    temp=[]\n",
    "    for y in range(0,3):\n",
    "        temp.append(mat[y,2])\n",
    "    ver_3 = temp\n",
    "    return ver_1,ver_2,ver_3\n",
    "    "
   ]
  }
 ],
 "metadata": {
  "kernelspec": {
   "display_name": "Python 3",
   "language": "python",
   "name": "python3"
  },
  "language_info": {
   "codemirror_mode": {
    "name": "ipython",
    "version": 3
   },
   "file_extension": ".py",
   "mimetype": "text/x-python",
   "name": "python",
   "nbconvert_exporter": "python",
   "pygments_lexer": "ipython3",
   "version": "3.8.5"
  }
 },
 "nbformat": 4,
 "nbformat_minor": 4
}
