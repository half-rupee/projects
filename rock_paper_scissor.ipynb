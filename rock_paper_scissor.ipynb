{
 "cells": [
  {
   "cell_type": "code",
   "execution_count": 88,
   "metadata": {},
   "outputs": [],
   "source": [
    "import random as rand"
   ]
  },
  {
   "cell_type": "code",
   "execution_count": 105,
   "metadata": {},
   "outputs": [],
   "source": [
    "def get_choice():\n",
    "\n",
    "    # player makes a choice\n",
    "    player = str(input(\"Enter r for rock, P for paper, S for scissor: \"))\n",
    "    while True:\n",
    "        if(player.lower() == \"r\") or (player.lower() == \"p\") or (player.lower() == \"s\"):\n",
    "            player = player\n",
    "            break\n",
    "        else:\n",
    "            player = input(\"Enter only valid keys: \")\n",
    "            player\n",
    "    # computer makes a choice\n",
    "    comp_set= [\"r\",\"p\",\"s\"]\n",
    "    comp = comp_set[rand.randint(0,2)]\n",
    "    comp\n",
    "    \n",
    "    print(f'Your choice was {player} & computers choice was  {comp}')\n",
    "    return player,comp\n",
    "    \n",
    "    "
   ]
  },
  {
   "cell_type": "code",
   "execution_count": 106,
   "metadata": {},
   "outputs": [],
   "source": [
    "# writing game function\n",
    "\n",
    "def game(player,comp):\n",
    "    if player == comp:\n",
    "        print(\"Game is a draw\")\n",
    "    else:\n",
    "        if comp == 'r' and player == \"s\":\n",
    "            print(\"You lose\")\n",
    "        elif comp == 'p' and player == \"r\":\n",
    "            print(\"You lose\")\n",
    "        elif comp == 's' and player == \"p\":\n",
    "            print(\"You lose\")\n",
    "        else:\n",
    "            print(\"You win\")\n",
    "            \n",
    "    resp =str(input(\"Do you want to play an other game (Y for yes): \"))\n",
    "    if resp.lower() == 'y':\n",
    "        rps_game()\n",
    "    else:\n",
    "        print(\"Understandable have a good day\")"
   ]
  },
  {
   "cell_type": "code",
   "execution_count": 107,
   "metadata": {},
   "outputs": [],
   "source": [
    "\n",
    "def rps_game():\n",
    "    player,comp = get_choice()\n",
    "    game(player,comp)"
   ]
  },
  {
   "cell_type": "code",
   "execution_count": 108,
   "metadata": {},
   "outputs": [
    {
     "name": "stdout",
     "output_type": "stream",
     "text": [
      "Enter r for rock, P for paper, S for scissor: r\n",
      "Your choice was r & computers choice was  r\n",
      "Game is a draw\n",
      "Do you want to play an other game (Y for yes): y\n",
      "Enter r for rock, P for paper, S for scissor: r\n",
      "Your choice was r & computers choice was  r\n",
      "Game is a draw\n",
      "Do you want to play an other game (Y for yes): y\n",
      "Enter r for rock, P for paper, S for scissor: r\n",
      "Your choice was r & computers choice was  p\n",
      "You lose\n",
      "Do you want to play an other game (Y for yes): n\n",
      "Understandable have a good day\n"
     ]
    }
   ],
   "source": [
    "rps_game()\n"
   ]
  }
 ],
 "metadata": {
  "kernelspec": {
   "display_name": "Python 3",
   "language": "python",
   "name": "python3"
  },
  "language_info": {
   "codemirror_mode": {
    "name": "ipython",
    "version": 3
   },
   "file_extension": ".py",
   "mimetype": "text/x-python",
   "name": "python",
   "nbconvert_exporter": "python",
   "pygments_lexer": "ipython3",
   "version": "3.8.5"
  }
 },
 "nbformat": 4,
 "nbformat_minor": 4
}
