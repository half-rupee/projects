{
 "cells": [
  {
   "cell_type": "code",
   "execution_count": 3,
   "id": "f3ae18d4",
   "metadata": {},
   "outputs": [],
   "source": [
    "import cv2, glob \n",
    "gimage = glob.glob(\"*jpg\")"
   ]
  },
  {
   "cell_type": "code",
   "execution_count": 6,
   "id": "5b076f0e",
   "metadata": {},
   "outputs": [],
   "source": [
    "\n",
    "detect = cv2.CascadeClassifier('haarcascade_frontalface_default.xml')"
   ]
  },
  {
   "cell_type": "code",
   "execution_count": 7,
   "id": "d213087a",
   "metadata": {},
   "outputs": [],
   "source": [
    "for timage in gimage:\n",
    "    image = cv2.imread(timage)\n",
    "    greyimage = cv2.cvtColor(image,cv2.COLOR_BGR2GRAY)\n",
    "    face = detect.detectMultiScale(greyimage,1.25, 3)\n",
    "    for (x,y,w,h) in face:\n",
    "        cv2.rectangle(image,(x,y),(x+w,y+h),(0,255,0),2)\n",
    "    cv2.imshow(\"detect images\",images)\n",
    "    cv2.waitkey(2000)\n",
    "    cv2.destroyAllWindows()"
   ]
  }
 ],
 "metadata": {
  "kernelspec": {
   "display_name": "Python 3 (ipykernel)",
   "language": "python",
   "name": "python3"
  },
  "language_info": {
   "codemirror_mode": {
    "name": "ipython",
    "version": 3
   },
   "file_extension": ".py",
   "mimetype": "text/x-python",
   "name": "python",
   "nbconvert_exporter": "python",
   "pygments_lexer": "ipython3",
   "version": "3.8.11"
  }
 },
 "nbformat": 4,
 "nbformat_minor": 5
}
